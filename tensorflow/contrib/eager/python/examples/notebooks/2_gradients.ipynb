{
  "cells": [
    {
      "cell_type": "markdown",
      "metadata": {
        "colab_type": "text",
        "id": "vDJ4XzMqodTy"
      },
      "source": [
        "# Eager Execution: Working with Gradients\n",
        "\n",
        "This notebook demonstrates:\n",
        "\n",
        "* How to get gradients using TensorFlow's eager execution capabilities\n",
        "* How to apply the gradients so you can update your variables"
      ]
    },
    {
      "cell_type": "markdown",
      "metadata": {
        "colab_type": "text",
        "id": "GQJysDM__Qb0"
      },
      "source": [
        "# Setup: Import eager and enable eager execution.\n"
      ]
    },
    {
      "cell_type": "code",
      "execution_count": 0,
      "metadata": {
        "colab": {
          "autoexec": {
            "startup": false,
            "wait_interval": 0
          }
        },
        "colab_type": "code",
        "id": "OiMPZStlibBv"
      },
      "outputs": [],
      "source": [
        "# Import TensorFlow.\n",
        "import tensorflow as tf\n",
        "\n",
        "\n",
        "# Enable eager execution.\n",
        "tf.enable_eager_execution()"
      ]
    },
    {
      "cell_type": "markdown",
      "metadata": {
        "colab_type": "text",
        "id": "1CLWJl0QliB0"
      },
      "source": [
        "# Fitting a Simple Linear Model"
      ]
    },
    {
      "cell_type": "markdown",
      "metadata": {
        "colab_type": "text",
        "id": "-39gouo7mtgu"
      },
      "source": [
        "## Step 1: Synthesize some data\n",
        "\n",
        "To demonstrate fitting a model with TensorFlow's eager execution, we'll fit a linear model to some synthesized data (which includes some noise).\n",
        "\n",
        "In the code, we  use the variable names `w` and `b` to represent the single weight and bias we'll use to fit our model."
      ]
    },
    {
      "cell_type": "code",
      "execution_count": 0,
      "metadata": {
        "cellView": "code",
        "colab": {
          "autoexec": {
            "startup": false,
            "wait_interval": 0
          }
        },
        "colab_type": "code",
        "id": "rQsdCg9PfIL-"
      },
      "outputs": [],
      "source": [
        "# The constants we'll try to fit our variables to:\n",
        "true_w = 3\n",
        "true_b = 2\n",
        "\n",
        "NUM_EXAMPLES = 1000\n",
        "\n",
        "# Our inputs:\n",
        "inputs = tf.random_normal(shape=[NUM_EXAMPLES, 1])\n",
        "\n",
        "# Our labels, with noise:\n",
        "noise = tf.random_normal(shape=[NUM_EXAMPLES, 1])\n",
        "labels = inputs * true_w + true_b + noise"
      ]
    },
    {
      "cell_type": "code",
      "execution_count": 0,
      "metadata": {
        "cellView": "code",
        "colab": {
          "autoexec": {
            "startup": false,
            "wait_interval": 0
          },
          "base_uri": "https://localhost:8080/",
          "height": 347
        },
        "colab_type": "code",
        "executionInfo": {
          "elapsed": 374,
          "status": "ok",
          "timestamp": 1525154227149,
          "user": {
            "displayName": "",
            "photoUrl": "",
            "userId": ""
          },
          "user_tz": 420
        },
        "id": "O4lsC4ckAcar",
        "outputId": "f8becb3f-498b-4cb7-9ef3-608a68cb65d0"
      },
      "outputs": [
        {
          "data": {
            "image/png": "[encoded data removed]",
            "text/plain": [
              "\u003cmatplotlib.figure.Figure at 0x7f7a18dfb8d0\u003e"
            ]
          },
          "metadata": {
            "tags": []
          },
          "output_type": "display_data"
        }
      ],
      "source": [
        "# Plot the Data (Optional)\n",
        "\n",
        "import matplotlib.pyplot as plt\n",
        "\n",
        "plt.scatter(inputs, labels)\n",
        "plt.show()"
      ]
    },
    {
      "cell_type": "markdown",
      "metadata": {
        "colab_type": "text",
        "id": "JaFHyAG9nDET"
      },
      "source": [
        "## Step 2: Define our TensorFlow variables\n",
        "\n",
        "We'll use Keras's object-oriented [`Dense`](https://www.tensorflow.org/api_docs/python/tf/keras/layers/Dense) layer to create our variables. In this case, we'll create a `Dense` layer with a single weight and bias."
      ]
    },
    {
      "cell_type": "code",
      "execution_count": 0,
      "metadata": {
        "cellView": "code",
        "colab": {
          "autoexec": {
            "startup": false,
            "wait_interval": 0
          },
          "base_uri": "https://localhost:8080/",
          "height": 34
        },
        "colab_type": "code",
        "executionInfo": {
          "elapsed": 332,
          "status": "ok",
          "timestamp": 1525154229931,
          "user": {
            "displayName": "",
            "photoUrl": "",
            "userId": ""
          },
          "user_tz": 420
        },
        "id": "z9r-ZeyrXu3A",
        "outputId": "e19a698e-5892-4fcd-80d3-1394605ee72c"
      },
      "outputs": [
        {
          "data": {
            "text/plain": [
              "[]"
            ]
          },
          "execution_count": 48,
          "metadata": {
            "tags": []
          },
          "output_type": "execute_result"
        }
      ],
      "source": [
        "# Create TensorFlow Variables using Keras's Dense layer.\n",
        "\n",
        "wb = tf.keras.layers.Dense(units=1, use_bias=True)\n",
        "\n",
        "# We can access the underlying TensorFlow variables using wb.variables.\n",
        "# However, the variables won't exist until the dimensions of the input\n",
        "# tensors are known. Once the dimensions of the input tensors are known,\n",
        "# Keras can create and initialize the variables. Until then, Keras will\n",
        "# report the variables as an empty list: [].\n",
        "\n",
        "wb.variables"
      ]
    },
    {
      "cell_type": "markdown",
      "metadata": {
        "colab_type": "text",
        "id": "docKLUaonYG_"
      },
      "source": [
        "## Step 3: *Define the loss function*\n",
        "\n",
        "Our loss function is the standard L2 loss (where we reduce the loss to its mean across its inputs)."
      ]
    },
    {
      "cell_type": "code",
      "execution_count": 0,
      "metadata": {
        "cellView": "code",
        "colab": {
          "autoexec": {
            "startup": false,
            "wait_interval": 0
          }
        },
        "colab_type": "code",
        "id": "0_w8ZJSCtuY7"
      },
      "outputs": [],
      "source": [
        "def loss_fn(predictions, labels):\n",
        "  \"\"\"Calculates the mean L2 loss for our linear model.\"\"\"\n",
        "  return tf.reduce_mean(tf.square(predictions - labels))"
      ]
    },
    {
      "cell_type": "code",
      "execution_count": 0,
      "metadata": {
        "cellView": "code",
        "colab": {
          "autoexec": {
            "startup": false,
            "wait_interval": 0
          },
          "base_uri": "https://localhost:8080/",
          "height": 34
        },
        "colab_type": "code",
        "executionInfo": {
          "elapsed": 348,
          "status": "ok",
          "timestamp": 1525154234538,
          "user": {
            "displayName": "",
            "photoUrl": "",
            "userId": ""
          },
          "user_tz": 420
        },
        "id": "RkNbXoXkpjVH",
        "outputId": "e4688f3c-e29f-416d-f541-6d81953b5660"
      },
      "outputs": [
        {
          "data": {
            "text/plain": [
              "\u003ctf.Tensor: id=1252, shape=(), dtype=float32, numpy=16.979801\u003e"
            ]
          },
          "execution_count": 50,
          "metadata": {
            "tags": []
          },
          "output_type": "execute_result"
        }
      ],
      "source": [
        "# Test loss function (optional).\n",
        "\n",
        "loss_fn(wb(inputs), labels)"
      ]
    },
    {
      "cell_type": "code",
      "execution_count": 0,
      "metadata": {
        "colab": {
          "autoexec": {
            "startup": false,
            "wait_interval": 0
          },
          "base_uri": "https://localhost:8080/",
          "height": 51
        },
        "colab_type": "code",
        "executionInfo": {
          "elapsed": 418,
          "status": "ok",
          "timestamp": 1525154260083,
          "user": {
            "displayName": "",
            "photoUrl": "",
            "userId": ""
          },
          "user_tz": 420
        },
        "id": "K_7beXoHOU7t",
        "outputId": "8f55c028-fe2b-4edb-ad68-a849afc60623"
      },
      "outputs": [
        {
          "name": "stdout",
          "output_type": "stream",
          "text": [
            "w: -0.311619\n",
            "b: 0.000000\n"
          ]
        }
      ],
      "source": [
        "# At this point, the variables exist, and can now be queried:\n",
        "\n",
        "w, b = wb.variables\n",
        "print(\"w: %f\" % w.numpy())\n",
        "print(\"b: %f\" % b.numpy())"
      ]
    },
    {
      "cell_type": "markdown",
      "metadata": {
        "colab_type": "text",
        "id": "JVDWpL9VYWdP"
      },
      "source": [
        "## Step 4: Create an optimizer\n",
        "\n",
        "We'll use a `GradientDescentOptimizer` to fit our model."
      ]
    },
    {
      "cell_type": "code",
      "execution_count": 0,
      "metadata": {
        "cellView": "code",
        "colab": {
          "autoexec": {
            "startup": false,
            "wait_interval": 0
          }
        },
        "colab_type": "code",
        "id": "DudNEebMKDWN"
      },
      "outputs": [],
      "source": [
        "optimizer = tf.train.GradientDescentOptimizer(learning_rate=0.1)"
      ]
    },
    {
      "cell_type": "markdown",
      "metadata": {
        "colab_type": "text",
        "id": "YBeJYxY8YaiO"
      },
      "source": [
        "### Step 5: Define a training step\n",
        "\n",
        "To fit model variables to the data we'll need to:\n",
        "\n",
        "1. Calculate the gradients of the loss with respect to the model variables.\n",
        "2. Use `optimizer` to compute updates to the variable values based on those gradients.\n",
        "\n",
        "To calculate the gradients, we use the [`tf.GradientTape`](https://www.tensorflow.org/api_docs/python/tf/GradientTape) context manager\n",
        "and its `gradient` function to compute gradients through computation conducted within its context:\n"
      ]
    },
    {
      "cell_type": "code",
      "execution_count": 0,
      "metadata": {
        "cellView": "code",
        "colab": {
          "autoexec": {
            "startup": false,
            "wait_interval": 0
          }
        },
        "colab_type": "code",
        "id": "diDZfrMJM3OC"
      },
      "outputs": [],
      "source": [
        "def run_step(inputs, labels):\n",
        "  with tf.GradientTape() as g:\n",
        "    loss = loss_fn(wb(inputs), labels)\n",
        "  # Compute the partial derivatives of loss with respect to the variables\n",
        "  grads = g.gradient(loss, wb.variables)\n",
        "  optimizer.apply_gradients(zip(grads, wb.variables))\n",
        "  return loss"
      ]
    },
    {
      "cell_type": "markdown",
      "metadata": {
        "colab_type": "text",
        "id": "1WWepgmJQOzc"
      },
      "source": [
        "Repeatedly running the training step will nudge the variables towards the values that best fit the data (i.e., \"w\" will move closer to 3.0, while \"b\" will tend to 2.0):\n",
        "\n"
      ]
    },
    {
      "cell_type": "code",
      "execution_count": 0,
      "metadata": {
        "colab": {
          "autoexec": {
            "startup": false,
            "wait_interval": 0
          },
          "base_uri": "https://localhost:8080/",
          "height": 51
        },
        "colab_type": "code",
        "executionInfo": {
          "elapsed": 380,
          "status": "ok",
          "timestamp": 1525154412590,
          "user": {
            "displayName": "",
            "photoUrl": "",
            "userId": ""
          },
          "user_tz": 420
        },
        "id": "ya5Qxz5XQlhU",
        "outputId": "8dd47155-a6c1-44c5-c279-617c803f1723"
      },
      "outputs": [
        {
          "name": "stdout",
          "output_type": "stream",
          "text": [
            "Values of w, b BEFORE applying gradients: 2.725763, 1.894334\n",
            "Values of w, b AFTER  applying gradients: 2.774932, 1.922555\n"
          ]
        }
      ],
      "source": [
        "w, b = wb.variables\n",
        "print(\"Values of w, b BEFORE applying gradients: %f, %f\" % (w.numpy(), b.numpy()))\n",
        "run_step(inputs, labels)\n",
        "print(\"Values of w, b AFTER  applying gradients: %f, %f\" % (w.numpy(), b.numpy()))\n"
      ]
    },
    {
      "cell_type": "markdown",
      "metadata": {
        "colab_type": "text",
        "id": "61TgeLVlKEQp"
      },
      "source": [
        "## Step 6: Create a training loop\n",
        "\n",
        "Of course, now we can simply turn all of this code into a self-standing training loop. We'll also capture our loss and approximations of `w` and `b` and plot them over time."
      ]
    },
    {
      "cell_type": "code",
      "execution_count": 0,
      "metadata": {
        "colab": {
          "autoexec": {
            "startup": false,
            "wait_interval": 0
          },
          "base_uri": "https://localhost:8080/",
          "height": 364
        },
        "colab_type": "code",
        "executionInfo": {
          "elapsed": 580,
          "status": "ok",
          "timestamp": 1525154278709,
          "user": {
            "displayName": "",
            "photoUrl": "",
            "userId": ""
          },
          "user_tz": 420
        },
        "id": "VukGe-huNaJ4",
        "outputId": "c79c8e63-c781-451e-f74f-20815d8da49f"
      },
      "outputs": [
        {
          "name": "stdout",
          "output_type": "stream",
          "text": [
            "[0.9409681558609009, 1.3733772039413452, 1.7128530740737915, 1.9793939590454102, 2.188689708709717, 2.3530514240264893, 2.4821391105651855, 2.583533763885498, 2.6631851196289062, 2.7257626056671143]\n"
          ]
        },
        {
          "data": {
            "image/png": "[encoded data removed]",
            "text/plain": [
              "\u003cmatplotlib.figure.Figure at 0x7f7a18df6b50\u003e"
            ]
          },
          "metadata": {
            "tags": []
          },
          "output_type": "display_data"
        }
      ],
      "source": [
        "# Train our variables.\n",
        "\n",
        "# numpy is used for its asscalar() function.\n",
        "import numpy as np\n",
        "\n",
        "num_training_steps = 10\n",
        "\n",
        "def train_model(inputs, labels, wb, optimizer, num_training_steps):\n",
        "  loss_at_step = []\n",
        "  w_at_step = []\n",
        "  b_at_step = []\n",
        "  for step_num in range(num_training_steps):\n",
        "    loss_at_step.append(run_step(inputs, labels))\n",
        "    w, b = wb.variables\n",
        "    w_at_step.append(np.asscalar(w.numpy()))\n",
        "    b_at_step.append(np.asscalar(b.numpy()))\n",
        "\n",
        "  print(w_at_step)\n",
        "  t = range(0, num_training_steps)\n",
        "  plt.plot(t, loss_at_step, 'k',\n",
        "           t, w_at_step, 'r',\n",
        "           t, [true_w] * num_training_steps, 'r--',\n",
        "           t, b_at_step, 'b',\n",
        "           t, [true_b] * num_training_steps, 'b--')\n",
        "  plt.legend(['loss', 'w estimate', 'w true', 'b estimate', 'b true'])\n",
        "  plt.show()\n",
        "\n",
        "train_model(inputs, labels, wb, optimizer, num_training_steps)"
      ]
    }
  ],
  "metadata": {
    "colab": {
      "collapsed_sections": [],
      "default_view": {},
      "name": "Eager Execution Tutorial: Working with Gradients",
      "provenance": [],
      "version": "0.3.2",
      "views": {}
    }
  },
  "nbformat": 4,
  "nbformat_minor": 0
}
